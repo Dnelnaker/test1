{
 "cells": [
  {
   "cell_type": "markdown",
   "id": "09ed46ce-8094-4af3-917c-5cf4ce296113",
   "metadata": {},
   "source": [
    "My Title"
   ]
  },
  {
   "cell_type": "code",
   "execution_count": 1,
   "id": "e29b6820-588d-45b5-9610-2a992fe48df3",
   "metadata": {},
   "outputs": [
    {
     "data": {
      "text/plain": [
       "2"
      ]
     },
     "execution_count": 1,
     "metadata": {},
     "output_type": "execute_result"
    }
   ],
   "source": [
    "1+1"
   ]
  },
  {
   "cell_type": "code",
   "execution_count": 2,
   "id": "d2d8b4e5-1794-4c78-ad14-6155e51b076b",
   "metadata": {},
   "outputs": [
    {
     "data": {
      "text/plain": [
       "92"
      ]
     },
     "execution_count": 2,
     "metadata": {},
     "output_type": "execute_result"
    }
   ],
   "source": [
    "23*4"
   ]
  },
  {
   "cell_type": "code",
   "execution_count": 3,
   "id": "aeb0a776-5eec-43ed-a080-12719305d77d",
   "metadata": {},
   "outputs": [
    {
     "data": {
      "text/plain": [
       "59630"
      ]
     },
     "execution_count": 3,
     "metadata": {},
     "output_type": "execute_result"
    }
   ],
   "source": [
    "67*890"
   ]
  },
  {
   "cell_type": "markdown",
   "id": "59890f7f-79f6-418e-9af0-20652951b723",
   "metadata": {},
   "source": [
    "Biography"
   ]
  },
  {
   "cell_type": "code",
   "execution_count": 4,
   "id": "1477d926-ef91-42a4-b46d-40cf2c354ddd",
   "metadata": {},
   "outputs": [
    {
     "data": {
      "text/plain": [
       "48"
      ]
     },
     "execution_count": 4,
     "metadata": {},
     "output_type": "execute_result"
    }
   ],
   "source": [
    "56-8"
   ]
  },
  {
   "cell_type": "code",
   "execution_count": null,
   "id": "e86c7d20-f51d-463f-bf5d-c4b719ff8408",
   "metadata": {},
   "outputs": [],
   "source": []
  }
 ],
 "metadata": {
  "kernelspec": {
   "display_name": "Python",
   "language": "python",
   "name": "conda-env-python-py"
  },
  "language_info": {
   "codemirror_mode": {
    "name": "ipython",
    "version": 3
   },
   "file_extension": ".py",
   "mimetype": "text/x-python",
   "name": "python",
   "nbconvert_exporter": "python",
   "pygments_lexer": "ipython3",
   "version": "3.6.13"
  }
 },
 "nbformat": 4,
 "nbformat_minor": 5
}
